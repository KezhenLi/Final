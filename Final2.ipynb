{
  "nbformat": 4,
  "nbformat_minor": 0,
  "metadata": {
    "colab": {
      "name": "Final2.ipynb",
      "provenance": [],
      "authorship_tag": "ABX9TyOGnDJJdSwEy2ThprF5+zQr",
      "include_colab_link": true
    },
    "kernelspec": {
      "name": "python3",
      "display_name": "Python 3"
    },
    "language_info": {
      "name": "python"
    }
  },
  "cells": [
    {
      "cell_type": "markdown",
      "metadata": {
        "id": "view-in-github",
        "colab_type": "text"
      },
      "source": [
        "<a href=\"https://colab.research.google.com/github/KezhenLi/Final/blob/main/Final2.ipynb\" target=\"_parent\"><img src=\"https://colab.research.google.com/assets/colab-badge.svg\" alt=\"Open In Colab\"/></a>"
      ]
    },
    {
      "cell_type": "code",
      "metadata": {
        "id": "F_OM3CEnWnB3"
      },
      "source": [
        "from numpy import linspace\n",
        "from pylab import plot, show"
      ],
      "execution_count": 1,
      "outputs": []
    },
    {
      "cell_type": "code",
      "metadata": {
        "colab": {
          "base_uri": "https://localhost:8080/"
        },
        "id": "--40lfwPW5xT",
        "outputId": "fc4fa78d-4a8e-4272-cfba-4e228c68fadc"
      },
      "source": [
        "#(a) Net Gravity is equal to centripetal force: G*M*mS/(r^2) - G*m*mS/((R-r)^2) = mS*(w^2)*r, \n",
        "# so G*M/(r^2) - G*m*/((R-r)^2) = (w^2)*r\n",
        "#(b)\n",
        "G = 6.674 * 10 ** -11 \n",
        "M = 5.974 * 10 ** 24  \n",
        "m = 7.348 * 10 ** 22  \n",
        "R = 3.844 * 10 ** 8  \n",
        "w = 2.662 * 10 ** -6  \n",
        "accuracy = 10 ** -8\n",
        "\n",
        "def f(r):\n",
        "    return G * M * (R - r) ** 2 - G * m * r ** 2 - w ** 2 * r ** 3 * (R - r) ** 2\n",
        "\n",
        "def f_prime(r):\n",
        "    return -2 * G * M * (R - r) - 2 * G * m * r - 3 * w ** 2 * r ** 2 * (R - r) ** 2  \\\n",
        "           + 2 * w ** 2 * r ** 3 * (R - r)\n",
        "\n",
        "def root(f, g, accuracy):\n",
        "    x = 3.0 * 10 ** 8\n",
        "    delta = f(x) / g(x)\n",
        "    while abs(delta) > accuracy:\n",
        "        delta = f(x) / g(x)\n",
        "        x -= delta\n",
        "\n",
        "    return x\n",
        "\n",
        "r = root(f, f_prime, accuracy)\n",
        "print(r)\n",
        "\n"
      ],
      "execution_count": 13,
      "outputs": [
        {
          "output_type": "stream",
          "text": [
            "326045071.66535544\n"
          ],
          "name": "stdout"
        }
      ]
    }
  ]
}