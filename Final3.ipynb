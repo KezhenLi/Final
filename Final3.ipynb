{
  "nbformat": 4,
  "nbformat_minor": 0,
  "metadata": {
    "colab": {
      "name": "Final3.ipynb",
      "provenance": [],
      "authorship_tag": "ABX9TyNLlrePypDO+teFX9fjrCYc",
      "include_colab_link": true
    },
    "kernelspec": {
      "name": "python3",
      "display_name": "Python 3"
    },
    "language_info": {
      "name": "python"
    }
  },
  "cells": [
    {
      "cell_type": "markdown",
      "metadata": {
        "id": "view-in-github",
        "colab_type": "text"
      },
      "source": [
        "<a href=\"https://colab.research.google.com/github/KezhenLi/Final/blob/main/Final3.ipynb\" target=\"_parent\"><img src=\"https://colab.research.google.com/assets/colab-badge.svg\" alt=\"Open In Colab\"/></a>"
      ]
    },
    {
      "cell_type": "code",
      "metadata": {
        "id": "xAYmZbmiq0b0"
      },
      "source": [
        "from numpy import array, arange, pi, sin, cos\n",
        "from pylab import plot, show, xlabel, ylabel"
      ],
      "execution_count": 2,
      "outputs": []
    },
    {
      "cell_type": "code",
      "metadata": {
        "colab": {
          "base_uri": "https://localhost:8080/",
          "height": 280
        },
        "id": "DMmSlUokrLfG",
        "outputId": "9c79d683-40dc-469c-f8b0-d63d4814f690"
      },
      "source": [
        "g = 9.81  \n",
        "m = 1  \n",
        "l = 1  \n",
        "theta1_0 = pi / 90\n",
        "theta2_0 = pi / 90\n",
        "omega1_0 = 0.3\n",
        "omega2_0 = 0\n",
        "t_0 = 0\n",
        "t_f = 50\n",
        "N = 1000\n",
        "h = (t_f - t_0) / N\n",
        "\n",
        "def f(r):\n",
        "    theta1 = r[0]\n",
        "    omega1 = r[1]\n",
        "    theta2 = r[2]\n",
        "    omega2 = r[3]\n",
        "    f_omega1 = - (omega1 ** 2 * sin(2 * theta1 - 2 * theta2) + 2 * omega2 ** 2 * sin(theta1 - theta2) + \\\n",
        "                  g / l * (sin(theta1 - 2 * theta2) + 3 * sin(theta1))) / (3 - cos(2 * theta1 - 2 * theta2))\n",
        "    f_omega2 = (4 * omega1 ** 2 * sin(theta1 - theta2) + omega2 ** 2 * sin(2 * theta1 - 2 * theta2) + \\\n",
        "                 2 * g / l * (sin(2 * theta1 - theta2) - sin(theta2))) / (3 - cos(2 * theta1 - 2 * theta2))\n",
        "    return array([ omega1, f_omega1, omega2, f_omega2], float)\n",
        "\n",
        "theta1_0 = pi / 90\n",
        "theta2_0 = pi / 90\n",
        "omega1_0 = 0.3\n",
        "xpoints = arange(-3, 3, 0.06)\n",
        "y1points = []\n",
        "y2points = []\n",
        "\n",
        "for i in xpoints:\n",
        "  omega2_0 = i\n",
        "  r = array([theta1_0, omega1_0, theta2_0, omega2_0], float)\n",
        "  tpoints = arange(t_0, t_f, h)\n",
        "  theta1_points = []\n",
        "  theta2_points = []\n",
        "  for t in tpoints:\n",
        "    theta1_points.append(r[0])\n",
        "    theta2_points.append(r[2])\n",
        "    k1 = h * f(r)\n",
        "    k2 = h * f(r + 0.5 * k1)\n",
        "    k3 = h * f(r + 0.5 * k2)\n",
        "    k4 = h * f(r + k3)\n",
        "    r += (k1 + 2 * k2 + 2 * k3 + k4) / 6\n",
        "  y1points.append(theta1_points[N-1])\n",
        "  y2points.append(theta2_points[N-1])\n",
        "\n",
        "plot(xpoints, y1points)\n",
        "plot(xpoints, y2points)\n",
        "xlabel('omega2_0')\n",
        "ylabel('thetal')\n",
        "show()\n"
      ],
      "execution_count": 42,
      "outputs": [
        {
          "output_type": "display_data",
          "data": {
            "image/png": "[encoded data removed]",
            "text/plain": [
              "<Figure size 432x288 with 1 Axes>"
            ]
          },
          "metadata": {
            "tags": [],
            "needs_background": "light"
          }
        }
      ]
    },
    {
      "cell_type": "code",
      "metadata": {
        "id": "hbZepE-Tu37v"
      },
      "source": [
        ""
      ],
      "execution_count": null,
      "outputs": []
    }
  ]
}