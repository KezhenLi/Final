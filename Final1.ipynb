{
  "nbformat": 4,
  "nbformat_minor": 0,
  "metadata": {
    "colab": {
      "name": "Final1.ipynb",
      "provenance": [],
      "authorship_tag": "ABX9TyMRHEHJ3lEw5GH1NziZpf7G",
      "include_colab_link": true
    },
    "kernelspec": {
      "name": "python3",
      "display_name": "Python 3"
    },
    "language_info": {
      "name": "python"
    }
  },
  "cells": [
    {
      "cell_type": "markdown",
      "metadata": {
        "id": "view-in-github",
        "colab_type": "text"
      },
      "source": [
        "<a href=\"https://colab.research.google.com/github/KezhenLi/Final/blob/main/Final1.ipynb\" target=\"_parent\"><img src=\"https://colab.research.google.com/assets/colab-badge.svg\" alt=\"Open In Colab\"/></a>"
      ]
    },
    {
      "cell_type": "code",
      "metadata": {
        "id": "WqAFt0eeRUPK"
      },
      "source": [
        "from numpy import sin, log\n",
        "from pylab import plot, show, xlabel"
      ],
      "execution_count": 3,
      "outputs": []
    },
    {
      "cell_type": "code",
      "metadata": {
        "colab": {
          "base_uri": "https://localhost:8080/",
          "height": 296
        },
        "id": "k-9kXd1_RnNF",
        "outputId": "ca8b4d83-1cb0-48f0-92da-ebc628e60b73"
      },
      "source": [
        "#(a)\n",
        "def f(x):\n",
        "    if x == 0:\n",
        "        return 1\n",
        "    else:\n",
        "        return sin(x) ** 2 / x ** 2\n",
        "\n",
        "def g(x):\n",
        "    return log(10 * x + 1)\n",
        "\n",
        "I = []\n",
        "\n",
        "def integral(f, a, b, error):\n",
        "    delta = error / (b - a)  # target accuracy per unit interval\n",
        "\n",
        "    def step(x1, x2, f1, f2):\n",
        "        h = x2 - x1\n",
        "        xm = 0.5 * (x2 + x1)\n",
        "        fm = f(xm)\n",
        "        I1 = h * 0.5 * (f1 + f2)\n",
        "        I2 = 0.5 * I1 + 0.5 * h * fm\n",
        "        if abs(1 / 3 * (I2 - I1)) < h * delta:\n",
        "            I.append(x1)\n",
        "            I.append(x2)\n",
        "            return 1 / 6 * h * (f1 + 4 * fm + f2)\n",
        "        else:\n",
        "            return step(x1, xm, f1, fm) + step(xm, x2, fm, f2)\n",
        "\n",
        "    return step(a, b, f(a), f(b))\n",
        "\n",
        "\n",
        "print(integral(f, 0, 10, 10 ** -4))\n",
        "\n",
        "#(b) Because the integral approximate (x2 - x1)*(fx1+fx2)/2\n",
        "\n",
        "#(c)\n",
        "plot(I, list(map(f, I)), 'o')\n",
        "xlabel(\"x\")\n",
        "show()\n"
      ],
      "execution_count": 4,
      "outputs": [
        {
          "output_type": "stream",
          "text": [
            "1.5186457598434095\n"
          ],
          "name": "stdout"
        },
        {
          "output_type": "display_data",
          "data": {
            "image/png": "[encoded data removed]",
            "text/plain": [
              "<Figure size 432x288 with 1 Axes>"
            ]
          },
          "metadata": {
            "tags": [],
            "needs_background": "light"
          }
        }
      ]
    }
  ]
}